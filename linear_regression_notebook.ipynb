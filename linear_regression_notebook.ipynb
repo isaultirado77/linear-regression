{
 "cells": [
  {
   "cell_type": "markdown",
   "id": "6ff6841e",
   "metadata": {},
   "source": [
    "# Introducción\n",
    "\n",
    "En esta notebook se explora como abordar el problema de regreson linal desde una perspectiva **probabilística**, en lugar de ajuatar una recta que minimice los errores (Least Squares). \n",
    "\n",
    "## ¿Por qué una visión probabilística? \n",
    "Cuando hacemos una regresion, en general no esperamos que los datos sigan una línea perfeca: nuestras observaciones están *contaminadas* por ruido. Este ruido muchas veces se modela como una *variable aleatoria*, lo que nos lleva a formular el modelo desde una distribución de probabilidad en lugar de una simple ecuación determinista. \n",
    "\n",
    "## Modelo probabilístico\n",
    "\n",
    "Asumimos que los datos se generaron a partir del siguiente proceso: \n",
    "$$y = \\textbf{x}^T\\theta + \\epsilon, ~~\\text{con} ~~ N(0, \\sigma^2)$$\n",
    "\n",
    "Desde una perspectiva probabilística, esto se traduce en el siguiente modelo de *verosimilitud* (likehood): \n",
    "\n",
    "$$\n",
    "p(y|\\mathbf{x}, \\boldsymbol{\\theta}) = \\mathcal{N}(y | \\mathbf{x}^T \\boldsymbol{\\theta}, \\sigma^2)\n",
    "$$\n",
    "\n",
    "Donde:\n",
    "- $\\mathbf{x} \\in \\mathbb{R}^D$ es el vector de entrada,\n",
    "- $\\boldsymbol{\\theta}$ son los parámetros que queremos aprender,\n",
    "- $\\sigma^2$ es la varianza del ruido (suponemos que es conocida o fija por simplicidad).\n",
    "\n",
    "### ¿C+omo estimar los parámetros?\n",
    "\n",
    "El objetivo ahora es inferir los valores más razonables para $\\boldsymbol{\\theta}$ dado  un conjunto de datos observados $\\mathcal{D} = \\left\\{ (\\mathbf{x}_n, y_n) \\mid n = 1, 2, \\dots, N \\right\\}$. Existen dos enfoques principales para resolver esto: \n",
    "\n",
    "1. **Maximum Likehood Estimation (MLE)**\n",
    "- Encuentra los parámetros que maximizan la probabilidad de observar los datos dados. \n",
    "- No se asume conocimeinto previo sobre los parámetros. \n",
    "2. **Maximum A Posteriori (MAP)**\n",
    "- Similar a MLE, pero incorpora una *distribución a priori* (prior distribution) sobre los parámetros. \n",
    "- Esto actúa como una forma de **regularización**, útil cuando tenemos pocos datos o mucho ruido. \n",
    "\n",
    "### ¿Qué haremos en el siguiente notebook?\n",
    "\n",
    "1. Simularemos un conjunto de datos con una relación lineal y ruido.\n",
    "2. Derivaremos las soluciones analíticas para MLE y MAP.\n",
    "3. Implementaremos ambas soluciones.\n",
    "4. Compararemos visualmente los resultados.\n",
    "5. Discutiremos sus diferencias y cuándo conviene usar cada una.\n"
   ]
  },
  {
   "cell_type": "markdown",
   "id": "bfceaff1",
   "metadata": {},
   "source": [
    "## Simulación de datos"
   ]
  },
  {
   "cell_type": "code",
   "execution_count": null,
   "id": "9b240afa",
   "metadata": {},
   "outputs": [],
   "source": []
  },
  {
   "cell_type": "markdown",
   "id": "2af8b3c3",
   "metadata": {},
   "source": [
    "## MLE"
   ]
  },
  {
   "cell_type": "code",
   "execution_count": null,
   "id": "04c5b935",
   "metadata": {},
   "outputs": [],
   "source": []
  },
  {
   "cell_type": "markdown",
   "id": "186b3863",
   "metadata": {},
   "source": [
    "## MAP"
   ]
  },
  {
   "cell_type": "code",
   "execution_count": null,
   "id": "0d71dc0c",
   "metadata": {},
   "outputs": [],
   "source": []
  },
  {
   "cell_type": "markdown",
   "id": "0841cf94",
   "metadata": {},
   "source": [
    "## Resultados"
   ]
  },
  {
   "cell_type": "code",
   "execution_count": null,
   "id": "902fa3c0",
   "metadata": {},
   "outputs": [],
   "source": []
  },
  {
   "cell_type": "markdown",
   "id": "aae5b54e",
   "metadata": {},
   "source": [
    "## Conclusiones"
   ]
  },
  {
   "cell_type": "code",
   "execution_count": null,
   "id": "544a6175",
   "metadata": {},
   "outputs": [],
   "source": []
  }
 ],
 "metadata": {
  "kernelspec": {
   "display_name": "mlVirt",
   "language": "python",
   "name": "mlvirt"
  },
  "language_info": {
   "codemirror_mode": {
    "name": "ipython",
    "version": 3
   },
   "file_extension": ".py",
   "mimetype": "text/x-python",
   "name": "python",
   "nbconvert_exporter": "python",
   "pygments_lexer": "ipython3",
   "version": "3.12.4"
  }
 },
 "nbformat": 4,
 "nbformat_minor": 5
}
